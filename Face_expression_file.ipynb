import cv2
import keras 
import numpy
import keras 
import numpy as np
from keras.models import Model,Input,load_model,Sequential
from keras.preprocessing.image import img_to_array
from keras.preprocessing.image import ImageDataGenerator
from keras.callbacks import History
from keras.layers import Conv2D,MaxPool2D,Flatten,Dropout,Dense,Activation
from keras.optimizers import RMSprop,Adam
from matplotlib import pyplot as plt
from sklearn.metrics import confusion_matrix
from keras.layers import GlobalAveragePooling2D,GlobalMaxPooling2D,Concatenate


face_classifier = cv2.CascadeClassifier('./haarcascade_frontalface_default.xml')
classifier =load_model('./EDetection_model.h5')

class_labels = ['Angry','Neutral','Happy','Sad','Surprise']

cap = cv2.VideoCapture(0)



while True:
    # Grab a single frame of video
    ret, frame = cap.read()
    labels = []
    gray = cv2.cvtColor(frame,cv2.COLOR_BGR2GRAY)
    faces = face_classifier.detectMultiScale(gray,1.3, minNeighbors=5)

    for (x,y,w,h) in faces:
        cv2.rectangle(frame,(x,y),(x+w,y+h),(255,0,0),2)
        roi_gray = gray[y:y+h,x:x+w]
        roi_gray = cv2.resize(roi_gray,(48,48),interpolation=cv2.INTER_AREA)

        cropped_img = np.expand_dims(np.expand_dims(cv2.resize(roi_gray, (48, 48)), -1), 0)

        # make a prediction on the ROI, then lookup the class

        preds = classifier.predict(cropped_img)
        print("\nprediction = ",preds)
        label=class_labels[preds.argmax()]
        print("\nprediction max = ",preds.argmax())
        print("\nlabel = ",label)
        label_position = (x,y)
        cv2.putText(frame,label,label_position,cv2.FONT_HERSHEY_SIMPLEX,2,(0,255,0),3)
    cv2.imshow('Video', frame)
    if cv2.waitKey(1) & 0xFF == ord('q'):
        break

cap.release()
cv2.destroyAllWindows()
